{
  "nbformat": 4,
  "nbformat_minor": 0,
  "metadata": {
    "colab": {
      "provenance": []
    },
    "kernelspec": {
      "name": "python3",
      "display_name": "Python 3"
    },
    "language_info": {
      "name": "python"
    }
  },
  "cells": [
    {
      "cell_type": "code",
      "source": [
        "!pip install yfinance"
      ],
      "metadata": {
        "colab": {
          "base_uri": "https://localhost:8080/"
        },
        "id": "oP4gC3l5vKOR",
        "outputId": "b6d3f237-0806-4a69-89ad-c36f79ce8517"
      },
      "execution_count": 2,
      "outputs": [
        {
          "output_type": "stream",
          "name": "stdout",
          "text": [
            "Requirement already satisfied: yfinance in /usr/local/lib/python3.10/dist-packages (0.2.36)\n",
            "Requirement already satisfied: pandas>=1.3.0 in /usr/local/lib/python3.10/dist-packages (from yfinance) (1.5.3)\n",
            "Requirement already satisfied: numpy>=1.16.5 in /usr/local/lib/python3.10/dist-packages (from yfinance) (1.23.5)\n",
            "Requirement already satisfied: requests>=2.31 in /usr/local/lib/python3.10/dist-packages (from yfinance) (2.31.0)\n",
            "Requirement already satisfied: multitasking>=0.0.7 in /usr/local/lib/python3.10/dist-packages (from yfinance) (0.0.11)\n",
            "Requirement already satisfied: lxml>=4.9.1 in /usr/local/lib/python3.10/dist-packages (from yfinance) (4.9.4)\n",
            "Requirement already satisfied: appdirs>=1.4.4 in /usr/local/lib/python3.10/dist-packages (from yfinance) (1.4.4)\n",
            "Requirement already satisfied: pytz>=2022.5 in /usr/local/lib/python3.10/dist-packages (from yfinance) (2023.3.post1)\n",
            "Requirement already satisfied: frozendict>=2.3.4 in /usr/local/lib/python3.10/dist-packages (from yfinance) (2.4.0)\n",
            "Requirement already satisfied: peewee>=3.16.2 in /usr/local/lib/python3.10/dist-packages (from yfinance) (3.17.0)\n",
            "Requirement already satisfied: beautifulsoup4>=4.11.1 in /usr/local/lib/python3.10/dist-packages (from yfinance) (4.11.2)\n",
            "Requirement already satisfied: html5lib>=1.1 in /usr/local/lib/python3.10/dist-packages (from yfinance) (1.1)\n",
            "Requirement already satisfied: soupsieve>1.2 in /usr/local/lib/python3.10/dist-packages (from beautifulsoup4>=4.11.1->yfinance) (2.5)\n",
            "Requirement already satisfied: six>=1.9 in /usr/local/lib/python3.10/dist-packages (from html5lib>=1.1->yfinance) (1.16.0)\n",
            "Requirement already satisfied: webencodings in /usr/local/lib/python3.10/dist-packages (from html5lib>=1.1->yfinance) (0.5.1)\n",
            "Requirement already satisfied: python-dateutil>=2.8.1 in /usr/local/lib/python3.10/dist-packages (from pandas>=1.3.0->yfinance) (2.8.2)\n",
            "Requirement already satisfied: charset-normalizer<4,>=2 in /usr/local/lib/python3.10/dist-packages (from requests>=2.31->yfinance) (3.3.2)\n",
            "Requirement already satisfied: idna<4,>=2.5 in /usr/local/lib/python3.10/dist-packages (from requests>=2.31->yfinance) (3.6)\n",
            "Requirement already satisfied: urllib3<3,>=1.21.1 in /usr/local/lib/python3.10/dist-packages (from requests>=2.31->yfinance) (2.0.7)\n",
            "Requirement already satisfied: certifi>=2017.4.17 in /usr/local/lib/python3.10/dist-packages (from requests>=2.31->yfinance) (2023.11.17)\n"
          ]
        }
      ]
    },
    {
      "cell_type": "code",
      "execution_count": 3,
      "metadata": {
        "id": "_umJ_kGcu6JF",
        "colab": {
          "base_uri": "https://localhost:8080/"
        },
        "outputId": "e9c13d2e-3c40-4c11-9218-d45ff51e29d7"
      },
      "outputs": [
        {
          "output_type": "stream",
          "name": "stderr",
          "text": [
            "/usr/local/lib/python3.10/dist-packages/yfinance/base.py:48: FutureWarning: The default dtype for empty Series will be 'object' instead of 'float64' in a future version. Specify a dtype explicitly to silence this warning.\n",
            "  _empty_series = pd.Series()\n"
          ]
        }
      ],
      "source": [
        "import pandas_datareader\n",
        "import pandas_datareader.data as reader\n",
        "import pandas as pd\n",
        "import datetime as dt\n",
        "import matplotlib.pyplot as plt\n",
        "import statsmodels.api as sm\n",
        "from scipy.optimize import minimize\n",
        "import yfinance as yfin\n",
        "import seaborn as sns\n",
        "import plotly.express as px\n",
        "import warnings\n",
        "import numpy as np\n",
        "warnings.filterwarnings('ignore')\n",
        "yfin.pdr_override()"
      ]
    },
    {
      "cell_type": "code",
      "source": [
        "start = '2000-01-01'\n",
        "end = '2023-11-18'\n",
        "brk_data = reader.get_data_yahoo('BRK-A', start, end)['Adj Close']\n",
        "print(brk_data)"
      ],
      "metadata": {
        "colab": {
          "base_uri": "https://localhost:8080/"
        },
        "id": "zQRodJ6TJf5E",
        "outputId": "0d366ae8-2f16-455f-ba6d-3945372092bc"
      },
      "execution_count": 4,
      "outputs": [
        {
          "output_type": "stream",
          "name": "stderr",
          "text": [
            "\r[*********************100%%**********************]  1 of 1 completed"
          ]
        },
        {
          "output_type": "stream",
          "name": "stdout",
          "text": [
            "Date\n",
            "2000-01-03     54800.0\n",
            "2000-01-04     52000.0\n",
            "2000-01-05     53200.0\n",
            "2000-01-06     55000.0\n",
            "2000-01-07     56500.0\n",
            "                ...   \n",
            "2023-11-13    531288.0\n",
            "2023-11-14    537400.0\n",
            "2023-11-15    542500.0\n",
            "2023-11-16    546635.0\n",
            "2023-11-17    544190.0\n",
            "Name: Adj Close, Length: 6009, dtype: float64\n"
          ]
        },
        {
          "output_type": "stream",
          "name": "stderr",
          "text": [
            "\n"
          ]
        }
      ]
    },
    {
      "cell_type": "code",
      "source": [
        "factors_data = pandas_datareader.famafrench.FamaFrenchReader('F-F_Research_Data_Factors_daily',start,end).read()[0]\n",
        "factors = factors_data[['Mkt-RF', 'HML', 'SMB']]"
      ],
      "metadata": {
        "id": "PuemXo9iJpYC"
      },
      "execution_count": 5,
      "outputs": []
    },
    {
      "cell_type": "code",
      "source": [
        "merged_data = pd.merge(brk_data, factors, left_index=True, right_index=True).dropna(axis=0)\n",
        "y = merged_data['Adj Close'].pct_change() - factors_data['RF']/100\n",
        "y = y.dropna(axis=0)\n",
        "print(y)"
      ],
      "metadata": {
        "colab": {
          "base_uri": "https://localhost:8080/"
        },
        "id": "Bhg5j2z2OkfE",
        "outputId": "5817486f-7ccb-4147-adef-3b7904516fb5"
      },
      "execution_count": 6,
      "outputs": [
        {
          "output_type": "stream",
          "name": "stdout",
          "text": [
            "Date\n",
            "2000-01-04   -0.051305\n",
            "2000-01-05    0.022867\n",
            "2000-01-06    0.033625\n",
            "2000-01-07    0.027063\n",
            "2000-01-10   -0.009060\n",
            "                ...   \n",
            "2023-11-13   -0.001334\n",
            "2023-11-14    0.011294\n",
            "2023-11-15    0.009280\n",
            "2023-11-16    0.007412\n",
            "2023-11-17   -0.004683\n",
            "Length: 6008, dtype: float64\n"
          ]
        }
      ]
    },
    {
      "cell_type": "code",
      "source": [
        "\n",
        "start = '2000-01-04'\n",
        "factors_data = pandas_datareader.famafrench.FamaFrenchReader('F-F_Research_Data_Factors_daily',start,end).read()[0]\n",
        "factors = factors_data[['Mkt-RF', 'HML', 'SMB']]\n",
        "X = sm.add_constant(factors)\n",
        "print(X)"
      ],
      "metadata": {
        "id": "J96UKg7cKcIg",
        "colab": {
          "base_uri": "https://localhost:8080/"
        },
        "outputId": "27552ac5-84d9-4ba2-bc01-bea95d198367"
      },
      "execution_count": 7,
      "outputs": [
        {
          "output_type": "stream",
          "name": "stdout",
          "text": [
            "            const  Mkt-RF   HML   SMB\n",
            "Date                                 \n",
            "2000-01-04    1.0   -4.06  2.06  0.00\n",
            "2000-01-05    1.0   -0.09  0.16  0.20\n",
            "2000-01-06    1.0   -0.73  1.26 -0.43\n",
            "2000-01-07    1.0    3.21 -1.42 -0.48\n",
            "2000-01-10    1.0    1.76 -1.52  0.96\n",
            "...           ...     ...   ...   ...\n",
            "2023-11-13    1.0   -0.05 -0.27  0.15\n",
            "2023-11-14    1.0    2.18  1.18  2.99\n",
            "2023-11-15    1.0    0.18  0.49 -0.04\n",
            "2023-11-16    1.0   -0.11 -0.31 -1.40\n",
            "2023-11-17    1.0    0.25  0.62  0.99\n",
            "\n",
            "[6008 rows x 4 columns]\n"
          ]
        }
      ]
    },
    {
      "cell_type": "code",
      "source": [
        "model = sm.OLS(y, X)\n",
        "results = model.fit()\n",
        "\n",
        "print(results.summary())"
      ],
      "metadata": {
        "colab": {
          "base_uri": "https://localhost:8080/"
        },
        "id": "Ax9kG_8cK2r6",
        "outputId": "c5a77524-2366-4b9b-a2e3-f05c1f8d544d"
      },
      "execution_count": 8,
      "outputs": [
        {
          "output_type": "stream",
          "name": "stdout",
          "text": [
            "                            OLS Regression Results                            \n",
            "==============================================================================\n",
            "Dep. Variable:                      y   R-squared:                       0.387\n",
            "Model:                            OLS   Adj. R-squared:                  0.386\n",
            "Method:                 Least Squares   F-statistic:                     1262.\n",
            "Date:                Fri, 26 Jan 2024   Prob (F-statistic):               0.00\n",
            "Time:                        07:45:10   Log-Likelihood:                 18586.\n",
            "No. Observations:                6008   AIC:                        -3.716e+04\n",
            "Df Residuals:                    6004   BIC:                        -3.714e+04\n",
            "Df Model:                           3                                         \n",
            "Covariance Type:            nonrobust                                         \n",
            "==============================================================================\n",
            "                 coef    std err          t      P>|t|      [0.025      0.975]\n",
            "------------------------------------------------------------------------------\n",
            "const          0.0002      0.000      1.413      0.158   -7.75e-05       0.000\n",
            "Mkt-RF         0.0064      0.000     56.320      0.000       0.006       0.007\n",
            "HML            0.0040      0.000     21.888      0.000       0.004       0.004\n",
            "SMB           -0.0011      0.000     -5.027      0.000      -0.002      -0.001\n",
            "==============================================================================\n",
            "Omnibus:                     2064.599   Durbin-Watson:                   2.129\n",
            "Prob(Omnibus):                  0.000   Jarque-Bera (JB):            54954.325\n",
            "Skew:                           1.061   Prob(JB):                         0.00\n",
            "Kurtosis:                      17.664   Cond. No.                         2.04\n",
            "==============================================================================\n",
            "\n",
            "Notes:\n",
            "[1] Standard Errors assume that the covariance matrix of the errors is correctly specified.\n"
          ]
        }
      ]
    },
    {
      "cell_type": "code",
      "source": [
        "alphas = []\n",
        "alpha = results.params[0]\n",
        "alphas.append(alpha)\n",
        "buffet_alpha = np.mean(alphas)\n",
        "is_significant = results.pvalues['const'] < 0.05\n",
        "print(\"Buffett's Alpha: \", buffet_alpha)\n",
        "print(\"Is the result statistically significant? \", is_significant)"
      ],
      "metadata": {
        "colab": {
          "base_uri": "https://localhost:8080/"
        },
        "id": "sRTYcnMgPCpG",
        "outputId": "c88a06a9-9022-45ed-a331-e19e7b467eed"
      },
      "execution_count": 9,
      "outputs": [
        {
          "output_type": "stream",
          "name": "stdout",
          "text": [
            "Buffett's Alpha:  0.00020011816222520012\n",
            "Is the result statistically significant?  False\n"
          ]
        }
      ]
    },
    {
      "cell_type": "markdown",
      "source": [
        "Акции Berkshire Pathways (BRK-A) демонстрируют положительную альфу, что указывает на то, что они превзошли доходность, скорректированную на факторы Фама-Френч."
      ],
      "metadata": {
        "id": "tzR4oV9rRZCG"
      }
    }
  ]
}